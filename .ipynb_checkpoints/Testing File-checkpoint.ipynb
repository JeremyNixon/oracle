{
 "cells": [
  {
   "cell_type": "code",
   "execution_count": 19,
   "metadata": {
    "collapsed": false
   },
   "outputs": [],
   "source": [
    "import linear_regression\n",
    "import ridge_regression\n",
    "import KNN_Classifier\n",
    "import pandas as pd\n",
    "import numpy as np\n",
    "import operator\n",
    "import matplotlib.pyplot as plt\n",
    "%matplotlib inline"
   ]
  },
  {
   "cell_type": "code",
   "execution_count": 177,
   "metadata": {
    "collapsed": false
   },
   "outputs": [
    {
     "data": {
      "text/html": [
       "<div style=\"max-height:1000px;max-width:1500px;overflow:auto;\">\n",
       "<table border=\"1\" class=\"dataframe\">\n",
       "  <thead>\n",
       "    <tr style=\"text-align: right;\">\n",
       "      <th></th>\n",
       "      <th>Name</th>\n",
       "      <th>Games</th>\n",
       "      <th>Goals</th>\n",
       "      <th>Assists</th>\n",
       "      <th>Ds</th>\n",
       "      <th>Turns</th>\n",
       "      <th>Drops</th>\n",
       "      <th>Point Blocks</th>\n",
       "      <th>Team Goals</th>\n",
       "      <th>Team Number</th>\n",
       "      <th>Team Name</th>\n",
       "    </tr>\n",
       "  </thead>\n",
       "  <tbody>\n",
       "    <tr>\n",
       "      <th>0</th>\n",
       "      <td> Jonah</td>\n",
       "      <td> 6</td>\n",
       "      <td> 15</td>\n",
       "      <td> 16</td>\n",
       "      <td>  7</td>\n",
       "      <td> 12</td>\n",
       "      <td> 2</td>\n",
       "      <td> 0</td>\n",
       "      <td> 92</td>\n",
       "      <td> 1</td>\n",
       "      <td> 2nd Anual Joshua Thomas Fries Memorial Indoor ...</td>\n",
       "    </tr>\n",
       "    <tr>\n",
       "      <th>1</th>\n",
       "      <td>  Mark</td>\n",
       "      <td> 7</td>\n",
       "      <td> 20</td>\n",
       "      <td> 36</td>\n",
       "      <td> 14</td>\n",
       "      <td> 15</td>\n",
       "      <td> 1</td>\n",
       "      <td> 2</td>\n",
       "      <td> 92</td>\n",
       "      <td> 1</td>\n",
       "      <td> 2nd Anual Joshua Thomas Fries Memorial Indoor ...</td>\n",
       "    </tr>\n",
       "  </tbody>\n",
       "</table>\n",
       "</div>"
      ],
      "text/plain": [
       "    Name  Games  Goals  Assists  Ds  Turns  Drops  Point Blocks  Team Goals  \\\n",
       "0  Jonah      6     15       16   7     12      2             0          92   \n",
       "1   Mark      7     20       36  14     15      1             2          92   \n",
       "\n",
       "   Team Number                                          Team Name  \n",
       "0            1  2nd Anual Joshua Thomas Fries Memorial Indoor ...  \n",
       "1            1  2nd Anual Joshua Thomas Fries Memorial Indoor ...  "
      ]
     },
     "execution_count": 177,
     "metadata": {},
     "output_type": "execute_result"
    }
   ],
   "source": [
    "file = \"/Users/jeremynixon/Dropbox/python/Ultimate Frisbee/Indoor.csv\"\n",
    "dataset = pd.read_csv(file)\n",
    "dataset[:2]"
   ]
  },
  {
   "cell_type": "code",
   "execution_count": 178,
   "metadata": {
    "collapsed": false
   },
   "outputs": [
    {
     "data": {
      "text/html": [
       "<div style=\"max-height:1000px;max-width:1500px;overflow:auto;\">\n",
       "<table border=\"1\" class=\"dataframe\">\n",
       "  <thead>\n",
       "    <tr style=\"text-align: right;\">\n",
       "      <th></th>\n",
       "      <th>Goals</th>\n",
       "      <th>Assists</th>\n",
       "    </tr>\n",
       "  </thead>\n",
       "  <tbody>\n",
       "    <tr>\n",
       "      <th>0</th>\n",
       "      <td> 15</td>\n",
       "      <td> 16</td>\n",
       "    </tr>\n",
       "    <tr>\n",
       "      <th>1</th>\n",
       "      <td> 20</td>\n",
       "      <td> 36</td>\n",
       "    </tr>\n",
       "  </tbody>\n",
       "</table>\n",
       "</div>"
      ],
      "text/plain": [
       "   Goals  Assists\n",
       "0     15       16\n",
       "1     20       36"
      ]
     },
     "execution_count": 178,
     "metadata": {},
     "output_type": "execute_result"
    }
   ],
   "source": [
    "df = dataset[['Goals','Assists']]\n",
    "df[:2]"
   ]
  },
  {
   "cell_type": "code",
   "execution_count": 179,
   "metadata": {
    "collapsed": false
   },
   "outputs": [
    {
     "ename": "SyntaxError",
     "evalue": "invalid syntax (<ipython-input-179-32d1b9a47dfd>, line 21)",
     "output_type": "error",
     "traceback": [
      "\u001b[0;36m  File \u001b[0;32m\"<ipython-input-179-32d1b9a47dfd>\"\u001b[0;36m, line \u001b[0;32m21\u001b[0m\n\u001b[0;31m    def find_centers(X, K):\u001b[0m\n\u001b[0m      ^\u001b[0m\n\u001b[0;31mSyntaxError\u001b[0m\u001b[0;31m:\u001b[0m invalid syntax\n"
     ]
    }
   ],
   "source": [
    "def cluster_points(X, mu):\n",
    "    clusters  = {}\n",
    "    for x in X:\n",
    "        bestmukey = min([(i[0], np.linalg.norm(x-mu[i[0]])) \\\n",
    "                    for i in enumerate(mu)], key=lambda t:t[1])[0]\n",
    "        try:\n",
    "            clusters[bestmukey].append(x)\n",
    "        except KeyError:\n",
    "            clusters[bestmukey] = [x]\n",
    "    return clusters\n",
    " \n",
    "def reevaluate_centers(mu, clusters):\n",
    "    newmu = []\n",
    "    keys = sorted(clusters.keys())\n",
    "    for k in keys:\n",
    "        newmu.append(np.mean(clusters[k], axis = 0))\n",
    "    return newmu\n",
    " \n",
    "def has_converged(mu, oldmu):\n",
    "    return (set([tuple(a) for a in mu]) == set([tuple(a) for a in oldmu]))\n",
    " \n",
    "def find_centers(X, K):\n",
    "    # Initialize to K random centers\n",
    "    oldmu = random.sample(X, K)\n",
    "    mu = random.sample(X, K)\n",
    "    while not has_converged(mu, oldmu):\n",
    "        oldmu = mu\n",
    "        # Assign all points in X to clusters\n",
    "        clusters = cluster_points(X, mu)\n",
    "        # Reevaluate centers\n",
    "        mu = reevaluate_centers(oldmu, clusters)\n",
    "    return(mu, clusters)\n"
   ]
  },
  {
   "cell_type": "code",
   "execution_count": null,
   "metadata": {
    "collapsed": true
   },
   "outputs": [],
   "source": []
  },
  {
   "cell_type": "code",
   "execution_count": null,
   "metadata": {
    "collapsed": true
   },
   "outputs": [],
   "source": []
  },
  {
   "cell_type": "code",
   "execution_count": null,
   "metadata": {
    "collapsed": true
   },
   "outputs": [],
   "source": []
  },
  {
   "cell_type": "code",
   "execution_count": null,
   "metadata": {
    "collapsed": true
   },
   "outputs": [],
   "source": []
  },
  {
   "cell_type": "code",
   "execution_count": 160,
   "metadata": {
    "collapsed": false
   },
   "outputs": [
    {
     "data": {
      "text/plain": [
       "(array([  2.27595720e-15,   1.00000000e+00]),\n",
       " <function linear_regression.<lambda>>)"
      ]
     },
     "execution_count": 160,
     "metadata": {},
     "output_type": "execute_result"
    }
   ],
   "source": [
    "linear_regression.linear_regression(df)"
   ]
  },
  {
   "cell_type": "code",
   "execution_count": 23,
   "metadata": {
    "collapsed": false
   },
   "outputs": [
    {
     "data": {
      "text/plain": [
       "(array([ 0.00145485,  0.999742  ]), <function ridge_regression.<lambda>>)"
      ]
     },
     "execution_count": 23,
     "metadata": {},
     "output_type": "execute_result"
    }
   ],
   "source": [
    "ridge_regression.ridge_regression(df, 1)"
   ]
  },
  {
   "cell_type": "code",
   "execution_count": 164,
   "metadata": {
    "collapsed": true
   },
   "outputs": [],
   "source": [
    "import numpy as np\n",
    "\n",
    "def ridge_regression_update(points, lam):\n",
    "    \n",
    "    X = np.array(points)\n",
    "    X = np.array([[1] + list(p[:-1]) for p in X])\n",
    "    y = np.array([p[-1] for p in X])\n",
    "    \n",
    "    Xt = np.transpose(X)\n",
    "    lambda_identity = lam*np.identity(len(Xt))\n",
    "    theInverse = np.linalg.inv(np.dot(Xt, X)+lambda_identity)\n",
    "    w = np.dot(np.dot(theInverse, Xt), y)\n",
    "    return w, lambda x: dot(w,x)"
   ]
  },
  {
   "cell_type": "code",
   "execution_count": 165,
   "metadata": {
    "collapsed": false
   },
   "outputs": [
    {
     "data": {
      "text/plain": [
       "(array([  2.27595720e-15,   1.00000000e+00]), <function __main__.<lambda>>)"
      ]
     },
     "execution_count": 165,
     "metadata": {},
     "output_type": "execute_result"
    }
   ],
   "source": [
    "ridge_regression_update(df, 0)"
   ]
  },
  {
   "cell_type": "code",
   "execution_count": 118,
   "metadata": {
    "collapsed": false
   },
   "outputs": [
    {
     "data": {
      "text/html": [
       "<div style=\"max-height:1000px;max-width:1500px;overflow:auto;\">\n",
       "<table border=\"1\" class=\"dataframe\">\n",
       "  <thead>\n",
       "    <tr style=\"text-align: right;\">\n",
       "      <th></th>\n",
       "      <th>Goals</th>\n",
       "      <th>Assists</th>\n",
       "    </tr>\n",
       "  </thead>\n",
       "  <tbody>\n",
       "    <tr>\n",
       "      <th>0</th>\n",
       "      <td> 15</td>\n",
       "      <td> 16</td>\n",
       "    </tr>\n",
       "    <tr>\n",
       "      <th>1</th>\n",
       "      <td> 20</td>\n",
       "      <td> 36</td>\n",
       "    </tr>\n",
       "    <tr>\n",
       "      <th>2</th>\n",
       "      <td> 18</td>\n",
       "      <td> 20</td>\n",
       "    </tr>\n",
       "    <tr>\n",
       "      <th>3</th>\n",
       "      <td> 13</td>\n",
       "      <td>  4</td>\n",
       "    </tr>\n",
       "    <tr>\n",
       "      <th>4</th>\n",
       "      <td>  8</td>\n",
       "      <td> 12</td>\n",
       "    </tr>\n",
       "  </tbody>\n",
       "</table>\n",
       "</div>"
      ],
      "text/plain": [
       "   Goals  Assists\n",
       "0     15       16\n",
       "1     20       36\n",
       "2     18       20\n",
       "3     13        4\n",
       "4      8       12"
      ]
     },
     "execution_count": 118,
     "metadata": {},
     "output_type": "execute_result"
    }
   ],
   "source": [
    "df[:5]"
   ]
  },
  {
   "cell_type": "code",
   "execution_count": 173,
   "metadata": {
    "collapsed": true
   },
   "outputs": [],
   "source": [
    "import numpy as np\n",
    "\n",
    "def ridge_regression_update(x_train, y_train, lam):\n",
    "    \n",
    "    X = np.array(x_train)\n",
    "    ones = np.ones(len(X))\n",
    "    X = np.column_stack((ones,X))\n",
    "    y = np.array(y_train)\n",
    "    \n",
    "    Xt = np.transpose(X)\n",
    "    lambda_identity = lam*np.identity(len(Xt))\n",
    "    theInverse = np.linalg.inv(np.dot(Xt, X)+lambda_identity)\n",
    "    w = np.dot(np.dot(theInverse, Xt), y)\n",
    "    return w, lambda x: dot(w,x)"
   ]
  },
  {
   "cell_type": "code",
   "execution_count": 174,
   "metadata": {
    "collapsed": false
   },
   "outputs": [
    {
     "data": {
      "text/plain": [
       "array([15, 20, 18, 13,  8])"
      ]
     },
     "execution_count": 174,
     "metadata": {},
     "output_type": "execute_result"
    }
   ],
   "source": [
    "x_train = np.array(df['Goals'])\n",
    "y_train = np.array(df['Assists'])\n",
    "x_train[:5]"
   ]
  },
  {
   "cell_type": "code",
   "execution_count": 175,
   "metadata": {
    "collapsed": false
   },
   "outputs": [
    {
     "data": {
      "text/plain": [
       "(array([ 1.407029  ,  0.74457783]), <function __main__.<lambda>>)"
      ]
     },
     "execution_count": 175,
     "metadata": {},
     "output_type": "execute_result"
    }
   ],
   "source": [
    "ridge_regression_update(x_train, y_train, 0)"
   ]
  },
  {
   "cell_type": "code",
   "execution_count": 176,
   "metadata": {
    "collapsed": false
   },
   "outputs": [
    {
     "data": {
      "text/plain": [
       "[<matplotlib.lines.Line2D at 0x10d05d190>]"
      ]
     },
     "execution_count": 176,
     "metadata": {},
     "output_type": "execute_result"
    },
    {
     "data": {
      "image/png": "[encoded data removed]",
      "text/plain": [
       "<matplotlib.figure.Figure at 0x10cd3fc10>"
      ]
     },
     "metadata": {},
     "output_type": "display_data"
    }
   ],
   "source": [
    "plt.scatter(x_train, y_train)\n",
    "plt.plot(line)"
   ]
  },
  {
   "cell_type": "code",
   "execution_count": 171,
   "metadata": {
    "collapsed": true
   },
   "outputs": [],
   "source": [
    "l = np.arange(0,50)\n",
    "a = 1.407029\n",
    "b = 0.744577\n",
    "line = []\n",
    "for i in range(len(l)):\n",
    "    line.append(a*l[i]+b)"
   ]
  },
  {
   "cell_type": "code",
   "execution_count": null,
   "metadata": {
    "collapsed": true
   },
   "outputs": [],
   "source": []
  },
  {
   "cell_type": "code",
   "execution_count": null,
   "metadata": {
    "collapsed": true
   },
   "outputs": [],
   "source": []
  },
  {
   "cell_type": "code",
   "execution_count": 54,
   "metadata": {
    "collapsed": false
   },
   "outputs": [],
   "source": [
    "df = pd.read_csv('https://archive.ics.uci.edu/ml/machine-learning-databases/wine-quality/winequality-red.csv', sep=';')\n",
    "Y = df['quality'].values\n",
    "df = df.drop('quality',1)"
   ]
  },
  {
   "cell_type": "code",
   "execution_count": 3,
   "metadata": {
    "collapsed": false
   },
   "outputs": [],
   "source": [
    "x_train = np.array(df[:1000])\n",
    "x_test = np.array(df[1000:])\n",
    "y_train = np.array(Y[:1000])\n",
    "y_test = np.array(Y[1000:])"
   ]
  },
  {
   "cell_type": "code",
   "execution_count": 6,
   "metadata": {
    "collapsed": false
   },
   "outputs": [],
   "source": [
    "predictions = KNN_Classifier.KNN_Classifier(x_train, y_train, x_test, 4, 4)"
   ]
  },
  {
   "cell_type": "code",
   "execution_count": 10,
   "metadata": {
    "collapsed": false
   },
   "outputs": [],
   "source": [
    "def eval(predictions):\n",
    "    count = 0\n",
    "    for i in range(len(y_test)):\n",
    "        if y_test[i] == predictions[i]:\n",
    "            count += 1\n",
    "    return count/float(len(y_test))"
   ]
  },
  {
   "cell_type": "code",
   "execution_count": 17,
   "metadata": {
    "collapsed": false
   },
   "outputs": [],
   "source": [
    "results = []\n",
    "for i in range(1,10):\n",
    "    predictions = KNN_Classifier.KNN_Classifier(x_train, y_train, x_test, i, 1)\n",
    "    results.append(eval(predictions))"
   ]
  },
  {
   "cell_type": "code",
   "execution_count": 18,
   "metadata": {
    "collapsed": false
   },
   "outputs": [
    {
     "data": {
      "text/plain": [
       "[0.4323873121869783,\n",
       " 0.4257095158597663,\n",
       " 0.34724540901502504,\n",
       " 0.3606010016694491,\n",
       " 0.335559265442404,\n",
       " 0.3121869782971619,\n",
       " 0.29716193656093487,\n",
       " 0.2871452420701169,\n",
       " 0.2654424040066778]"
      ]
     },
     "execution_count": 18,
     "metadata": {},
     "output_type": "execute_result"
    }
   ],
   "source": [
    "results"
   ]
  },
  {
   "cell_type": "code",
   "execution_count": null,
   "metadata": {
    "collapsed": true
   },
   "outputs": [],
   "source": []
  },
  {
   "cell_type": "code",
   "execution_count": null,
   "metadata": {
    "collapsed": true
   },
   "outputs": [],
   "source": []
  },
  {
   "cell_type": "code",
   "execution_count": 1,
   "metadata": {
    "collapsed": false
   },
   "outputs": [
    {
     "name": "stdout",
     "output_type": "stream",
     "text": [
      "(90, 3)\n",
      "(90, 1)\n",
      "(60, 3)\n",
      "(60, 1)\n"
     ]
    }
   ],
   "source": [
    "import csv\n",
    "import random\n",
    "import math\n",
    "import pandas as pd\n",
    "import numpy as np\n",
    "import KNN_Regressor\n",
    "\n",
    "iris = pd.read_csv('iris.data', header=None)\n",
    "iris = iris.iloc[:,:-1]\n",
    "pd.set_option('display.max_rows', 500)\n",
    "a = iris[:30]\n",
    "b = iris[50:80]\n",
    "c = iris[100:130]\n",
    "train = pd.concat([a,b,c])\n",
    "a = iris[30:50]\n",
    "b = iris[80:100]\n",
    "c = iris[130:]\n",
    "test = pd.concat([a,b,c])\n",
    "x_train = train.iloc[:,:-1]\n",
    "y_train = train.iloc[:,-1:]\n",
    "x_test = test.iloc[:,:-1]\n",
    "y_test = test.iloc[:,-1:]\n",
    "print x_train.shape\n",
    "print y_train.shape\n",
    "print x_test.shape\n",
    "print y_test.shape"
   ]
  },
  {
   "cell_type": "code",
   "execution_count": 3,
   "metadata": {
    "collapsed": false
   },
   "outputs": [
    {
     "data": {
      "text/plain": [
       "[0.15000000000000002,\n",
       " 0.2,\n",
       " 0.375,\n",
       " 0.35000000000000003,\n",
       " 0.15,\n",
       " 0.30000000000000004,\n",
       " 0.2,\n",
       " 0.15,\n",
       " 0.175,\n",
       " 0.275,\n",
       " 0.22499999999999998,\n",
       " 0.9750000000000001,\n",
       " 0.2,\n",
       " 0.22499999999999998,\n",
       " 0.27499999999999997,\n",
       " 0.15000000000000002,\n",
       " 0.27499999999999997,\n",
       " 0.22500000000000003,\n",
       " 0.35,\n",
       " 0.30000000000000004,\n",
       " 1.35,\n",
       " 1.35,\n",
       " 1.65,\n",
       " 1.25,\n",
       " 1.525,\n",
       " 1.85,\n",
       " 1.65,\n",
       " 1.375,\n",
       " 1.525,\n",
       " 1.35,\n",
       " 1.525,\n",
       " 1.55,\n",
       " 1.475,\n",
       " 1.275,\n",
       " 1.4,\n",
       " 1.4,\n",
       " 1.625,\n",
       " 1.575,\n",
       " 1.3499999999999999,\n",
       " 1.675,\n",
       " 1.875,\n",
       " 2.1500000000000004,\n",
       " 1.7,\n",
       " 1.875,\n",
       " 1.45,\n",
       " 2.05,\n",
       " 1.9749999999999999,\n",
       " 2.0,\n",
       " 1.5499999999999998,\n",
       " 1.8249999999999997,\n",
       " 1.65,\n",
       " 1.8249999999999997,\n",
       " 1.65,\n",
       " 1.8250000000000002,\n",
       " 1.95,\n",
       " 1.65,\n",
       " 1.6749999999999998,\n",
       " 1.675,\n",
       " 1.9749999999999999,\n",
       " 1.65]"
      ]
     },
     "execution_count": 3,
     "metadata": {},
     "output_type": "execute_result"
    }
   ],
   "source": [
    "KNN_Regressor.KNN_Regressor(x_train, y_train, x_test, 4)"
   ]
  },
  {
   "cell_type": "code",
   "execution_count": null,
   "metadata": {
    "collapsed": true
   },
   "outputs": [],
   "source": []
  }
 ],
 "metadata": {
  "kernelspec": {
   "display_name": "Python 2",
   "language": "python",
   "name": "python2"
  },
  "language_info": {
   "codemirror_mode": {
    "name": "ipython",
    "version": 2
   },
   "file_extension": ".py",
   "mimetype": "text/x-python",
   "name": "python",
   "nbconvert_exporter": "python",
   "pygments_lexer": "ipython2",
   "version": "2.7.9"
  }
 },
 "nbformat": 4,
 "nbformat_minor": 0
}
