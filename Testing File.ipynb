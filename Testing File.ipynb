{
 "cells": [
  {
   "cell_type": "code",
   "execution_count": 3,
   "metadata": {
    "collapsed": true
   },
   "outputs": [],
   "source": [
    "import linear_regression\n",
    "import pandas as pd"
   ]
  },
  {
   "cell_type": "code",
   "execution_count": 4,
   "metadata": {
    "collapsed": false
   },
   "outputs": [
    {
     "data": {
      "text/html": [
       "<div style=\"max-height:1000px;max-width:1500px;overflow:auto;\">\n",
       "<table border=\"1\" class=\"dataframe\">\n",
       "  <thead>\n",
       "    <tr style=\"text-align: right;\">\n",
       "      <th></th>\n",
       "      <th>Name</th>\n",
       "      <th>Games</th>\n",
       "      <th>Goals</th>\n",
       "      <th>Assists</th>\n",
       "      <th>Ds</th>\n",
       "      <th>Turns</th>\n",
       "      <th>Drops</th>\n",
       "      <th>Point Blocks</th>\n",
       "      <th>Team Goals</th>\n",
       "      <th>Team Number</th>\n",
       "      <th>Team Name</th>\n",
       "    </tr>\n",
       "  </thead>\n",
       "  <tbody>\n",
       "    <tr>\n",
       "      <th>0</th>\n",
       "      <td> Jonah</td>\n",
       "      <td> 6</td>\n",
       "      <td> 15</td>\n",
       "      <td> 16</td>\n",
       "      <td>  7</td>\n",
       "      <td> 12</td>\n",
       "      <td> 2</td>\n",
       "      <td> 0</td>\n",
       "      <td> 92</td>\n",
       "      <td> 1</td>\n",
       "      <td> 2nd Anual Joshua Thomas Fries Memorial Indoor ...</td>\n",
       "    </tr>\n",
       "    <tr>\n",
       "      <th>1</th>\n",
       "      <td>  Mark</td>\n",
       "      <td> 7</td>\n",
       "      <td> 20</td>\n",
       "      <td> 36</td>\n",
       "      <td> 14</td>\n",
       "      <td> 15</td>\n",
       "      <td> 1</td>\n",
       "      <td> 2</td>\n",
       "      <td> 92</td>\n",
       "      <td> 1</td>\n",
       "      <td> 2nd Anual Joshua Thomas Fries Memorial Indoor ...</td>\n",
       "    </tr>\n",
       "  </tbody>\n",
       "</table>\n",
       "</div>"
      ],
      "text/plain": [
       "    Name  Games  Goals  Assists  Ds  Turns  Drops  Point Blocks  Team Goals  \\\n",
       "0  Jonah      6     15       16   7     12      2             0          92   \n",
       "1   Mark      7     20       36  14     15      1             2          92   \n",
       "\n",
       "   Team Number                                          Team Name  \n",
       "0            1  2nd Anual Joshua Thomas Fries Memorial Indoor ...  \n",
       "1            1  2nd Anual Joshua Thomas Fries Memorial Indoor ...  "
      ]
     },
     "execution_count": 4,
     "metadata": {},
     "output_type": "execute_result"
    }
   ],
   "source": [
    "file = \"/Users/jeremynixon/Dropbox/python/Ultimate Frisbee/Indoor.csv\"\n",
    "dataset = pd.read_csv(file)\n",
    "dataset[:2]"
   ]
  },
  {
   "cell_type": "code",
   "execution_count": 9,
   "metadata": {
    "collapsed": false
   },
   "outputs": [
    {
     "data": {
      "text/html": [
       "<div style=\"max-height:1000px;max-width:1500px;overflow:auto;\">\n",
       "<table border=\"1\" class=\"dataframe\">\n",
       "  <thead>\n",
       "    <tr style=\"text-align: right;\">\n",
       "      <th></th>\n",
       "      <th>Goals</th>\n",
       "      <th>Assists</th>\n",
       "    </tr>\n",
       "  </thead>\n",
       "  <tbody>\n",
       "    <tr>\n",
       "      <th>0</th>\n",
       "      <td> 15</td>\n",
       "      <td> 16</td>\n",
       "    </tr>\n",
       "    <tr>\n",
       "      <th>1</th>\n",
       "      <td> 20</td>\n",
       "      <td> 36</td>\n",
       "    </tr>\n",
       "  </tbody>\n",
       "</table>\n",
       "</div>"
      ],
      "text/plain": [
       "   Goals  Assists\n",
       "0     15       16\n",
       "1     20       36"
      ]
     },
     "execution_count": 9,
     "metadata": {},
     "output_type": "execute_result"
    }
   ],
   "source": [
    "df = dataset[['Goals','Assists']]\n",
    "df[:2]"
   ]
  },
  {
   "cell_type": "code",
   "execution_count": 10,
   "metadata": {
    "collapsed": false
   },
   "outputs": [
    {
     "data": {
      "text/plain": [
       "(array([  2.27595720e-15,   1.00000000e+00]),\n",
       " <function linear_regression.<lambda>>)"
      ]
     },
     "execution_count": 10,
     "metadata": {},
     "output_type": "execute_result"
    }
   ],
   "source": [
    "linear_regression.linear_regression(df)"
   ]
  },
  {
   "cell_type": "code",
   "execution_count": null,
   "metadata": {
    "collapsed": true
   },
   "outputs": [],
   "source": []
  }
 ],
 "metadata": {
  "kernelspec": {
   "display_name": "Python 2",
   "language": "python",
   "name": "python2"
  },
  "language_info": {
   "codemirror_mode": {
    "name": "ipython",
    "version": 2
   },
   "file_extension": ".py",
   "mimetype": "text/x-python",
   "name": "python",
   "nbconvert_exporter": "python",
   "pygments_lexer": "ipython2",
   "version": "2.7.9"
  }
 },
 "nbformat": 4,
 "nbformat_minor": 0
}
