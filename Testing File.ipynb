{
 "cells": [
  {
   "cell_type": "code",
   "execution_count": 12,
   "metadata": {
    "collapsed": false
   },
   "outputs": [],
   "source": [
    "import linear_regression\n",
    "import ridge_regression\n",
    "import KNN_Classifier\n",
    "import pandas as pd\n",
    "import numpy as np\n",
    "import operator\n",
    "import matplotlib.pyplot as plt\n",
    "%matplotlib inline"
   ]
  },
  {
   "cell_type": "code",
   "execution_count": 4,
   "metadata": {
    "collapsed": false
   },
   "outputs": [
    {
     "data": {
      "text/html": [
       "<div style=\"max-height:1000px;max-width:1500px;overflow:auto;\">\n",
       "<table border=\"1\" class=\"dataframe\">\n",
       "  <thead>\n",
       "    <tr style=\"text-align: right;\">\n",
       "      <th></th>\n",
       "      <th>Name</th>\n",
       "      <th>Games</th>\n",
       "      <th>Goals</th>\n",
       "      <th>Assists</th>\n",
       "      <th>Ds</th>\n",
       "      <th>Turns</th>\n",
       "      <th>Drops</th>\n",
       "      <th>Point Blocks</th>\n",
       "      <th>Team Goals</th>\n",
       "      <th>Team Number</th>\n",
       "      <th>Team Name</th>\n",
       "    </tr>\n",
       "  </thead>\n",
       "  <tbody>\n",
       "    <tr>\n",
       "      <th>0</th>\n",
       "      <td> Jonah</td>\n",
       "      <td> 6</td>\n",
       "      <td> 15</td>\n",
       "      <td> 16</td>\n",
       "      <td>  7</td>\n",
       "      <td> 12</td>\n",
       "      <td> 2</td>\n",
       "      <td> 0</td>\n",
       "      <td> 92</td>\n",
       "      <td> 1</td>\n",
       "      <td> 2nd Anual Joshua Thomas Fries Memorial Indoor ...</td>\n",
       "    </tr>\n",
       "    <tr>\n",
       "      <th>1</th>\n",
       "      <td>  Mark</td>\n",
       "      <td> 7</td>\n",
       "      <td> 20</td>\n",
       "      <td> 36</td>\n",
       "      <td> 14</td>\n",
       "      <td> 15</td>\n",
       "      <td> 1</td>\n",
       "      <td> 2</td>\n",
       "      <td> 92</td>\n",
       "      <td> 1</td>\n",
       "      <td> 2nd Anual Joshua Thomas Fries Memorial Indoor ...</td>\n",
       "    </tr>\n",
       "  </tbody>\n",
       "</table>\n",
       "</div>"
      ],
      "text/plain": [
       "    Name  Games  Goals  Assists  Ds  Turns  Drops  Point Blocks  Team Goals  \\\n",
       "0  Jonah      6     15       16   7     12      2             0          92   \n",
       "1   Mark      7     20       36  14     15      1             2          92   \n",
       "\n",
       "   Team Number                                          Team Name  \n",
       "0            1  2nd Anual Joshua Thomas Fries Memorial Indoor ...  \n",
       "1            1  2nd Anual Joshua Thomas Fries Memorial Indoor ...  "
      ]
     },
     "execution_count": 4,
     "metadata": {},
     "output_type": "execute_result"
    }
   ],
   "source": [
    "file = \"/Users/jeremynixon/Dropbox/python/Ultimate Frisbee/Indoor.csv\"\n",
    "dataset = pd.read_csv(file)\n",
    "dataset[:2]"
   ]
  },
  {
   "cell_type": "code",
   "execution_count": 5,
   "metadata": {
    "collapsed": false
   },
   "outputs": [
    {
     "data": {
      "text/html": [
       "<div style=\"max-height:1000px;max-width:1500px;overflow:auto;\">\n",
       "<table border=\"1\" class=\"dataframe\">\n",
       "  <thead>\n",
       "    <tr style=\"text-align: right;\">\n",
       "      <th></th>\n",
       "      <th>Goals</th>\n",
       "      <th>Assists</th>\n",
       "    </tr>\n",
       "  </thead>\n",
       "  <tbody>\n",
       "    <tr>\n",
       "      <th>0</th>\n",
       "      <td> 15</td>\n",
       "      <td> 16</td>\n",
       "    </tr>\n",
       "    <tr>\n",
       "      <th>1</th>\n",
       "      <td> 20</td>\n",
       "      <td> 36</td>\n",
       "    </tr>\n",
       "  </tbody>\n",
       "</table>\n",
       "</div>"
      ],
      "text/plain": [
       "   Goals  Assists\n",
       "0     15       16\n",
       "1     20       36"
      ]
     },
     "execution_count": 5,
     "metadata": {},
     "output_type": "execute_result"
    }
   ],
   "source": [
    "df = dataset[['Goals','Assists']]\n",
    "df[:2]"
   ]
  },
  {
   "cell_type": "code",
   "execution_count": 6,
   "metadata": {
    "collapsed": false
   },
   "outputs": [
    {
     "data": {
      "text/plain": [
       "(array([  2.27595720e-15,   1.00000000e+00]),\n",
       " <function linear_regression.<lambda>>)"
      ]
     },
     "execution_count": 6,
     "metadata": {},
     "output_type": "execute_result"
    }
   ],
   "source": [
    "linear_regression.linear_regression(df)"
   ]
  },
  {
   "cell_type": "code",
   "execution_count": 10,
   "metadata": {
    "collapsed": false
   },
   "outputs": [
    {
     "data": {
      "text/plain": [
       "(array([ 0.00145485,  0.999742  ]), <function ridge_regression.<lambda>>)"
      ]
     },
     "execution_count": 10,
     "metadata": {},
     "output_type": "execute_result"
    }
   ],
   "source": [
    "ridge_regression.ridge_regression(df, 1)"
   ]
  },
  {
   "cell_type": "code",
   "execution_count": 2,
   "metadata": {
    "collapsed": false
   },
   "outputs": [],
   "source": [
    "df = pd.read_csv('https://archive.ics.uci.edu/ml/machine-learning-databases/wine-quality/winequality-red.csv', sep=';')\n",
    "Y = df['quality'].values\n",
    "df = df.drop('quality',1)"
   ]
  },
  {
   "cell_type": "code",
   "execution_count": 3,
   "metadata": {
    "collapsed": false
   },
   "outputs": [],
   "source": [
    "x_train = np.array(df[:1000])\n",
    "x_test = np.array(df[1000:])\n",
    "y_train = np.array(Y[:1000])\n",
    "y_test = np.array(Y[1000:])"
   ]
  },
  {
   "cell_type": "code",
   "execution_count": 6,
   "metadata": {
    "collapsed": false
   },
   "outputs": [],
   "source": [
    "predictions = KNN_Classifier.KNN_Classifier(x_train, y_train, x_test, 4, 4)"
   ]
  },
  {
   "cell_type": "code",
   "execution_count": 10,
   "metadata": {
    "collapsed": false
   },
   "outputs": [],
   "source": [
    "def eval(predictions):\n",
    "    count = 0\n",
    "    for i in range(len(y_test)):\n",
    "        if y_test[i] == predictions[i]:\n",
    "            count += 1\n",
    "    return count/float(len(y_test))"
   ]
  },
  {
   "cell_type": "code",
   "execution_count": 17,
   "metadata": {
    "collapsed": false
   },
   "outputs": [],
   "source": [
    "results = []\n",
    "for i in range(1,10):\n",
    "    predictions = KNN_Classifier.KNN_Classifier(x_train, y_train, x_test, i, 1)\n",
    "    results.append(eval(predictions))"
   ]
  },
  {
   "cell_type": "code",
   "execution_count": 18,
   "metadata": {
    "collapsed": false
   },
   "outputs": [
    {
     "data": {
      "text/plain": [
       "[0.4323873121869783,\n",
       " 0.4257095158597663,\n",
       " 0.34724540901502504,\n",
       " 0.3606010016694491,\n",
       " 0.335559265442404,\n",
       " 0.3121869782971619,\n",
       " 0.29716193656093487,\n",
       " 0.2871452420701169,\n",
       " 0.2654424040066778]"
      ]
     },
     "execution_count": 18,
     "metadata": {},
     "output_type": "execute_result"
    }
   ],
   "source": [
    "results"
   ]
  },
  {
   "cell_type": "code",
   "execution_count": null,
   "metadata": {
    "collapsed": true
   },
   "outputs": [],
   "source": []
  },
  {
   "cell_type": "code",
   "execution_count": null,
   "metadata": {
    "collapsed": true
   },
   "outputs": [],
   "source": []
  },
  {
   "cell_type": "code",
   "execution_count": 1,
   "metadata": {
    "collapsed": false
   },
   "outputs": [
    {
     "name": "stdout",
     "output_type": "stream",
     "text": [
      "(90, 3)\n",
      "(90, 1)\n",
      "(60, 3)\n",
      "(60, 1)\n"
     ]
    }
   ],
   "source": [
    "import csv\n",
    "import random\n",
    "import math\n",
    "import pandas as pd\n",
    "import numpy as np\n",
    "import KNN_Regressor\n",
    "\n",
    "iris = pd.read_csv('iris.data', header=None)\n",
    "iris = iris.iloc[:,:-1]\n",
    "pd.set_option('display.max_rows', 500)\n",
    "a = iris[:30]\n",
    "b = iris[50:80]\n",
    "c = iris[100:130]\n",
    "train = pd.concat([a,b,c])\n",
    "a = iris[30:50]\n",
    "b = iris[80:100]\n",
    "c = iris[130:]\n",
    "test = pd.concat([a,b,c])\n",
    "x_train = train.iloc[:,:-1]\n",
    "y_train = train.iloc[:,-1:]\n",
    "x_test = test.iloc[:,:-1]\n",
    "y_test = test.iloc[:,-1:]\n",
    "print x_train.shape\n",
    "print y_train.shape\n",
    "print x_test.shape\n",
    "print y_test.shape"
   ]
  },
  {
   "cell_type": "code",
   "execution_count": 3,
   "metadata": {
    "collapsed": false
   },
   "outputs": [
    {
     "data": {
      "text/plain": [
       "[0.15000000000000002,\n",
       " 0.2,\n",
       " 0.375,\n",
       " 0.35000000000000003,\n",
       " 0.15,\n",
       " 0.30000000000000004,\n",
       " 0.2,\n",
       " 0.15,\n",
       " 0.175,\n",
       " 0.275,\n",
       " 0.22499999999999998,\n",
       " 0.9750000000000001,\n",
       " 0.2,\n",
       " 0.22499999999999998,\n",
       " 0.27499999999999997,\n",
       " 0.15000000000000002,\n",
       " 0.27499999999999997,\n",
       " 0.22500000000000003,\n",
       " 0.35,\n",
       " 0.30000000000000004,\n",
       " 1.35,\n",
       " 1.35,\n",
       " 1.65,\n",
       " 1.25,\n",
       " 1.525,\n",
       " 1.85,\n",
       " 1.65,\n",
       " 1.375,\n",
       " 1.525,\n",
       " 1.35,\n",
       " 1.525,\n",
       " 1.55,\n",
       " 1.475,\n",
       " 1.275,\n",
       " 1.4,\n",
       " 1.4,\n",
       " 1.625,\n",
       " 1.575,\n",
       " 1.3499999999999999,\n",
       " 1.675,\n",
       " 1.875,\n",
       " 2.1500000000000004,\n",
       " 1.7,\n",
       " 1.875,\n",
       " 1.45,\n",
       " 2.05,\n",
       " 1.9749999999999999,\n",
       " 2.0,\n",
       " 1.5499999999999998,\n",
       " 1.8249999999999997,\n",
       " 1.65,\n",
       " 1.8249999999999997,\n",
       " 1.65,\n",
       " 1.8250000000000002,\n",
       " 1.95,\n",
       " 1.65,\n",
       " 1.6749999999999998,\n",
       " 1.675,\n",
       " 1.9749999999999999,\n",
       " 1.65]"
      ]
     },
     "execution_count": 3,
     "metadata": {},
     "output_type": "execute_result"
    }
   ],
   "source": [
    "KNN_Regressor.KNN_Regressor(x_train, y_train, x_test, 4)"
   ]
  },
  {
   "cell_type": "code",
   "execution_count": null,
   "metadata": {
    "collapsed": true
   },
   "outputs": [],
   "source": []
  }
 ],
 "metadata": {
  "kernelspec": {
   "display_name": "Python 2",
   "language": "python",
   "name": "python2"
  },
  "language_info": {
   "codemirror_mode": {
    "name": "ipython",
    "version": 2
   },
   "file_extension": ".py",
   "mimetype": "text/x-python",
   "name": "python",
   "nbconvert_exporter": "python",
   "pygments_lexer": "ipython2",
   "version": "2.7.9"
  }
 },
 "nbformat": 4,
 "nbformat_minor": 0
}
