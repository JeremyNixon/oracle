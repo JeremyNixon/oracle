{
 "cells": [
  {
   "cell_type": "code",
   "execution_count": 1,
   "metadata": {
    "collapsed": true
   },
   "outputs": [],
   "source": [
    "import pandas as pd\n",
    "import matplotlib.pyplot as plt\n",
    "import numpy as np\n",
    "import random\n",
    "%matplotlib inline"
   ]
  },
  {
   "cell_type": "code",
   "execution_count": 4,
   "metadata": {
    "collapsed": true
   },
   "outputs": [],
   "source": [
    "from numpy import array, dot, transpose\n",
    "from numpy.linalg import inv\n",
    "\n",
    "def linear_regression(points):\n",
    "    X = array(points)\n",
    "    X = array([[1] + list(p[:-1]) for p in X])\n",
    "    y = array([p[-1] for p in X])\n",
    "    \n",
    "    #print X\n",
    "    #print y\n",
    "    \n",
    "    Xt = transpose(X)\n",
    "    theInverse = inv(dot(Xt, X))\n",
    "    w = dot(dot(theInverse, Xt), y)\n",
    "    return w, lambda x: dot(w,x)"
   ]
  },
  {
   "cell_type": "code",
   "execution_count": 5,
   "metadata": {
    "collapsed": false
   },
   "outputs": [
    {
     "data": {
      "text/html": [
       "<div style=\"max-height:1000px;max-width:1500px;overflow:auto;\">\n",
       "<table border=\"1\" class=\"dataframe\">\n",
       "  <thead>\n",
       "    <tr style=\"text-align: right;\">\n",
       "      <th></th>\n",
       "      <th>Name</th>\n",
       "      <th>Games</th>\n",
       "      <th>Goals</th>\n",
       "      <th>Assists</th>\n",
       "      <th>Ds</th>\n",
       "      <th>Turns</th>\n",
       "      <th>Drops</th>\n",
       "      <th>Point Blocks</th>\n",
       "      <th>Team Goals</th>\n",
       "      <th>Team Number</th>\n",
       "      <th>Team Name</th>\n",
       "    </tr>\n",
       "  </thead>\n",
       "  <tbody>\n",
       "    <tr>\n",
       "      <th>0</th>\n",
       "      <td>        Jonah</td>\n",
       "      <td> 6</td>\n",
       "      <td> 15</td>\n",
       "      <td> 16</td>\n",
       "      <td>  7</td>\n",
       "      <td> 12</td>\n",
       "      <td> 2</td>\n",
       "      <td> 0</td>\n",
       "      <td> 92</td>\n",
       "      <td> 1</td>\n",
       "      <td> 2nd Anual Joshua Thomas Fries Memorial Indoor ...</td>\n",
       "    </tr>\n",
       "    <tr>\n",
       "      <th>1</th>\n",
       "      <td>         Mark</td>\n",
       "      <td> 7</td>\n",
       "      <td> 20</td>\n",
       "      <td> 36</td>\n",
       "      <td> 14</td>\n",
       "      <td> 15</td>\n",
       "      <td> 1</td>\n",
       "      <td> 2</td>\n",
       "      <td> 92</td>\n",
       "      <td> 1</td>\n",
       "      <td> 2nd Anual Joshua Thomas Fries Memorial Indoor ...</td>\n",
       "    </tr>\n",
       "    <tr>\n",
       "      <th>2</th>\n",
       "      <td> Sam Dinnings</td>\n",
       "      <td> 6</td>\n",
       "      <td> 18</td>\n",
       "      <td> 20</td>\n",
       "      <td> 10</td>\n",
       "      <td> 17</td>\n",
       "      <td> 4</td>\n",
       "      <td> 0</td>\n",
       "      <td> 92</td>\n",
       "      <td> 1</td>\n",
       "      <td> 2nd Anual Joshua Thomas Fries Memorial Indoor ...</td>\n",
       "    </tr>\n",
       "    <tr>\n",
       "      <th>3</th>\n",
       "      <td>  Carson Cook</td>\n",
       "      <td> 4</td>\n",
       "      <td> 13</td>\n",
       "      <td>  4</td>\n",
       "      <td>  7</td>\n",
       "      <td>  6</td>\n",
       "      <td> 3</td>\n",
       "      <td> 0</td>\n",
       "      <td> 92</td>\n",
       "      <td> 1</td>\n",
       "      <td> 2nd Anual Joshua Thomas Fries Memorial Indoor ...</td>\n",
       "    </tr>\n",
       "    <tr>\n",
       "      <th>4</th>\n",
       "      <td>    Brian Zid</td>\n",
       "      <td> 5</td>\n",
       "      <td>  8</td>\n",
       "      <td> 12</td>\n",
       "      <td>  4</td>\n",
       "      <td>  5</td>\n",
       "      <td> 1</td>\n",
       "      <td> 1</td>\n",
       "      <td> 92</td>\n",
       "      <td> 1</td>\n",
       "      <td> 2nd Anual Joshua Thomas Fries Memorial Indoor ...</td>\n",
       "    </tr>\n",
       "  </tbody>\n",
       "</table>\n",
       "</div>"
      ],
      "text/plain": [
       "           Name  Games  Goals  Assists  Ds  Turns  Drops  Point Blocks  \\\n",
       "0         Jonah      6     15       16   7     12      2             0   \n",
       "1          Mark      7     20       36  14     15      1             2   \n",
       "2  Sam Dinnings      6     18       20  10     17      4             0   \n",
       "3   Carson Cook      4     13        4   7      6      3             0   \n",
       "4     Brian Zid      5      8       12   4      5      1             1   \n",
       "\n",
       "   Team Goals  Team Number                                          Team Name  \n",
       "0          92            1  2nd Anual Joshua Thomas Fries Memorial Indoor ...  \n",
       "1          92            1  2nd Anual Joshua Thomas Fries Memorial Indoor ...  \n",
       "2          92            1  2nd Anual Joshua Thomas Fries Memorial Indoor ...  \n",
       "3          92            1  2nd Anual Joshua Thomas Fries Memorial Indoor ...  \n",
       "4          92            1  2nd Anual Joshua Thomas Fries Memorial Indoor ...  "
      ]
     },
     "execution_count": 5,
     "metadata": {},
     "output_type": "execute_result"
    }
   ],
   "source": [
    "file = \"/Users/jeremynixon/Dropbox/python/Ultimate Frisbee/Indoor.csv\"\n",
    "dataset = pd.read_csv(file)\n",
    "dataset.head()"
   ]
  },
  {
   "cell_type": "code",
   "execution_count": 6,
   "metadata": {
    "collapsed": false
   },
   "outputs": [
    {
     "data": {
      "text/html": [
       "<div style=\"max-height:1000px;max-width:1500px;overflow:auto;\">\n",
       "<table border=\"1\" class=\"dataframe\">\n",
       "  <thead>\n",
       "    <tr style=\"text-align: right;\">\n",
       "      <th></th>\n",
       "      <th>Goals</th>\n",
       "      <th>Assists</th>\n",
       "    </tr>\n",
       "  </thead>\n",
       "  <tbody>\n",
       "    <tr>\n",
       "      <th>0</th>\n",
       "      <td> 15</td>\n",
       "      <td> 16</td>\n",
       "    </tr>\n",
       "    <tr>\n",
       "      <th>1</th>\n",
       "      <td> 20</td>\n",
       "      <td> 36</td>\n",
       "    </tr>\n",
       "  </tbody>\n",
       "</table>\n",
       "</div>"
      ],
      "text/plain": [
       "   Goals  Assists\n",
       "0     15       16\n",
       "1     20       36"
      ]
     },
     "execution_count": 6,
     "metadata": {},
     "output_type": "execute_result"
    }
   ],
   "source": [
    "df = dataset[['Goals','Assists']]\n",
    "df[:2]"
   ]
  },
  {
   "cell_type": "code",
   "execution_count": 9,
   "metadata": {
    "collapsed": false
   },
   "outputs": [
    {
     "data": {
      "text/plain": [
       "(array([  2.27595720e-15,   1.00000000e+00]), <function __main__.<lambda>>)"
      ]
     },
     "execution_count": 9,
     "metadata": {},
     "output_type": "execute_result"
    }
   ],
   "source": [
    "linear_regression(df)"
   ]
  },
  {
   "cell_type": "code",
   "execution_count": 17,
   "metadata": {
    "collapsed": false
   },
   "outputs": [
    {
     "name": "stdout",
     "output_type": "stream",
     "text": [
      "[[ 1.  0.  0.  0.  0.]\n",
      " [ 0.  1.  0.  0.  0.]\n",
      " [ 0.  0.  1.  0.  0.]\n",
      " [ 0.  0.  0.  1.  0.]\n",
      " [ 0.  0.  0.  0.  1.]]\n"
     ]
    }
   ],
   "source": [
    "print np.identity(5)"
   ]
  },
  {
   "cell_type": "code",
   "execution_count": 20,
   "metadata": {
    "collapsed": false
   },
   "outputs": [
    {
     "data": {
      "text/plain": [
       "107"
      ]
     },
     "execution_count": 20,
     "metadata": {},
     "output_type": "execute_result"
    }
   ],
   "source": [
    "len(dataset['Goals'])"
   ]
  },
  {
   "cell_type": "code",
   "execution_count": 25,
   "metadata": {
    "collapsed": true
   },
   "outputs": [],
   "source": [
    "def ridge_regression(points, lam):\n",
    "    X = array(points)\n",
    "    X = array([[1] + list(p[:-1]) for p in X])\n",
    "    y = array([p[-1] for p in X])\n",
    "    \n",
    "    #print X\n",
    "    #print y\n",
    "    \n",
    "    Xt = transpose(X)\n",
    "    lambda_identity = lam*np.identity(len(Xt))\n",
    "    theInverse = inv(dot(Xt, X)+lambda_identity)\n",
    "    w = dot(dot(theInverse, Xt), y)\n",
    "    return w, lambda x: dot(w,x)"
   ]
  },
  {
   "cell_type": "code",
   "execution_count": 26,
   "metadata": {
    "collapsed": false
   },
   "outputs": [
    {
     "data": {
      "text/plain": [
       "(array([ 0.00552554,  0.99899288]), <function __main__.<lambda>>)"
      ]
     },
     "execution_count": 26,
     "metadata": {},
     "output_type": "execute_result"
    }
   ],
   "source": [
    "ridge_regression(df, 4)"
   ]
  },
  {
   "cell_type": "code",
   "execution_count": 6,
   "metadata": {
    "collapsed": true
   },
   "outputs": [],
   "source": [
    "goals = list(dataset['Goals'])\n",
    "assists = list(dataset['Assists'])"
   ]
  },
  {
   "cell_type": "code",
   "execution_count": 7,
   "metadata": {
    "collapsed": false
   },
   "outputs": [
    {
     "name": "stdout",
     "output_type": "stream",
     "text": [
      "[15, 20, 18, 13, 8, 2, 10, 1, 2, 0, 3, 0, 0, 2, 14, 1, 7, 8, 0, 8, 1, 7, 11, 0, 0, 0, 4, 15, 1, 11, 9, 23, 18, 0, 0, 10, 0, 1, 8, 0, 0, 16, 19, 8, 10, 9, 0, 5, 0, 14, 2, 1, 16, 13, 27, 12, 1, 5, 0, 5, 3, 2, 12, 11, 0, 0, 7, 2, 4, 8, 5, 0, 8, 1, 2, 3, 0, 13, 3, 5, 4, 1, 5, 2, 5, 0, 4, 8, 9, 0, 0, 0, 2, 7, 3, 18, 6, 7, 1, 7, 0, 7, 0, 1, 0, 5, 4]\n",
      "[16, 36, 20, 4, 12, 0, 0, 1, 0, 0, 1, 0, 0, 4, 13, 0, 4, 5, 1, 15, 12, 4, 1, 0, 0, 0, 4, 35, 4, 14, 27, 5, 4, 0, 0, 4, 0, 1, 2, 0, 0, 15, 3, 5, 7, 5, 0, 14, 0, 21, 0, 0, 29, 13, 13, 17, 6, 3, 0, 4, 15, 6, 7, 6, 0, 0, 13, 3, 3, 14, 7, 0, 2, 0, 4, 8, 0, 0, 1, 3, 9, 0, 4, 5, 4, 1, 15, 2, 1, 0, 0, 0, 2, 1, 6, 10, 8, 15, 7, 10, 0, 1, 0, 3, 0, 2, 2]\n"
     ]
    }
   ],
   "source": [
    "print goals\n",
    "print assists"
   ]
  },
  {
   "cell_type": "code",
   "execution_count": 12,
   "metadata": {
    "collapsed": false
   },
   "outputs": [],
   "source": [
    "def avg(l):\n",
    "    count = 0\n",
    "    for i in l:\n",
    "        count += i\n",
    "    return count/float(len(l))"
   ]
  },
  {
   "cell_type": "code",
   "execution_count": 14,
   "metadata": {
    "collapsed": false
   },
   "outputs": [
    {
     "name": "stdout",
     "output_type": "stream",
     "text": [
      "5.69158878505\n",
      "5.64485981308\n"
     ]
    }
   ],
   "source": [
    "print avg(goals)\n",
    "print avg(assists)"
   ]
  },
  {
   "cell_type": "code",
   "execution_count": 19,
   "metadata": {
    "collapsed": false
   },
   "outputs": [
    {
     "data": {
      "text/plain": [
       "(5.6915887850467293, 5.6448598130841123)"
      ]
     },
     "execution_count": 19,
     "metadata": {},
     "output_type": "execute_result"
    }
   ],
   "source": [
    "avg(goals), avg(assists)"
   ]
  },
  {
   "cell_type": "code",
   "execution_count": 20,
   "metadata": {
    "collapsed": false
   },
   "outputs": [
    {
     "name": "stdout",
     "output_type": "stream",
     "text": [
      "0.74457782685\n"
     ]
    }
   ],
   "source": [
    "aNumerator = 0\n",
    "aDenominator = 0\n",
    "for i in range(len(goals)):\n",
    "    aNumerator += (assists[i] - avg(assists))*goals[i]\n",
    "    aDenominator += (goals[i] - avg(goals))*goals[i]\n",
    "a = float(aNumerator)/aDenominator\n",
    "print a"
   ]
  },
  {
   "cell_type": "code",
   "execution_count": 21,
   "metadata": {
    "collapsed": false
   },
   "outputs": [
    {
     "name": "stdout",
     "output_type": "stream",
     "text": [
      "1.40702900419\n"
     ]
    }
   ],
   "source": [
    "bNumerator = 0\n",
    "for i in range(len(goals)):\n",
    "    bNumerator += assists[i] - a*goals[i]\n",
    "b = float(bNumerator)/len(goals)\n",
    "print b"
   ]
  },
  {
   "cell_type": "code",
   "execution_count": 30,
   "metadata": {
    "collapsed": true
   },
   "outputs": [],
   "source": [
    "l = np.arange(0,50)"
   ]
  },
  {
   "cell_type": "code",
   "execution_count": 31,
   "metadata": {
    "collapsed": false
   },
   "outputs": [],
   "source": [
    "line = []\n",
    "for i in range(len(l)):\n",
    "    line.append(a*l[i]+b)"
   ]
  },
  {
   "cell_type": "code",
   "execution_count": 33,
   "metadata": {
    "collapsed": false
   },
   "outputs": [
    {
     "data": {
      "text/plain": [
       "[<matplotlib.lines.Line2D at 0x10a3ac990>]"
      ]
     },
     "execution_count": 33,
     "metadata": {},
     "output_type": "execute_result"
    },
    {
     "data": {
      "image/png": "[encoded data removed]",
      "text/plain": [
       "<matplotlib.figure.Figure at 0x10a3b2c90>"
      ]
     },
     "metadata": {},
     "output_type": "display_data"
    }
   ],
   "source": [
    "plt.scatter(goals, assists)\n",
    "plt.plot(line)"
   ]
  },
  {
   "cell_type": "code",
   "execution_count": 36,
   "metadata": {
    "collapsed": true
   },
   "outputs": [],
   "source": [
    "average = lambda L: 1.0* sum(L)/len(L)"
   ]
  },
  {
   "cell_type": "code",
   "execution_count": 39,
   "metadata": {
    "collapsed": false
   },
   "outputs": [
    {
     "data": {
      "text/plain": [
       "0.1662708946463889"
      ]
     },
     "execution_count": 39,
     "metadata": {},
     "output_type": "execute_result"
    }
   ],
   "source": [
    "random.random()"
   ]
  },
  {
   "cell_type": "code",
   "execution_count": 41,
   "metadata": {
    "collapsed": false
   },
   "outputs": [],
   "source": [
    "a = 0.5\n",
    "b = 7.0\n",
    "\n",
    "points = [(x, a*x + b + (random.random() *0.4 - 0.2)) for x in [random.random() * 10 for _ in range(100)]]"
   ]
  },
  {
   "cell_type": "code",
   "execution_count": 60,
   "metadata": {
    "collapsed": false
   },
   "outputs": [],
   "source": [
    "aNum = 0\n",
    "aDen = 0\n",
    "\n",
    "for x,y in points:\n",
    "    xAvg, yAvg = map(avg, zip(*points))\n",
    "    \n",
    "    aNum += (y - yAvg)*x\n",
    "    aDen += (x - xAvg)*x\n",
    "a = float(aNum)/aDen\n",
    "b = yAvg - a*xAvg"
   ]
  },
  {
   "cell_type": "code",
   "execution_count": 61,
   "metadata": {
    "collapsed": false
   },
   "outputs": [
    {
     "name": "stdout",
     "output_type": "stream",
     "text": [
      "0.500159094273\n",
      "7.00105694506\n"
     ]
    }
   ],
   "source": [
    "print a\n",
    "print b"
   ]
  },
  {
   "cell_type": "code",
   "execution_count": 1,
   "metadata": {
    "collapsed": true
   },
   "outputs": [],
   "source": [
    "from numpy import array, dot, transpose\n",
    "from numpy.linalg import inv\n",
    "\n",
    "def linear_regression(points):\n",
    "    X = array([[1] + list(p[:-1]) for p in points])\n",
    "    y = array([p[-1] for p in points])\n",
    "    \n",
    "    #print X\n",
    "    print y\n",
    "    \n",
    "    Xt = transpose(X)\n",
    "    theInverse = inv(dot(Xt, x))\n",
    "    w = dot(dot(theInverst, Xt), y)\n",
    "    return w, lambda x: dot(w,x)"
   ]
  },
  {
   "cell_type": "code",
   "execution_count": 79,
   "metadata": {
    "collapsed": false
   },
   "outputs": [
    {
     "name": "stdout",
     "output_type": "stream",
     "text": [
      "[15, 20, 18, 13, 8, 2, 10, 1, 2, 0, 3, 0, 0, 2, 14, 1, 7, 8, 0, 8, 1, 7, 11, 0, 0, 0, 4, 15, 1, 11, 9, 23, 18, 0, 0, 10, 0, 1, 8, 0, 0, 16, 19, 8, 10, 9, 0, 5, 0, 14, 2, 1, 16, 13, 27, 12, 1, 5, 0, 5, 3, 2, 12, 11, 0, 0, 7, 2, 4, 8, 5, 0, 8, 1, 2, 3, 0, 13, 3, 5, 4, 1, 5, 2, 5, 0, 4, 8, 9, 0, 0, 0, 2, 7, 3, 18, 6, 7, 1, 7, 0, 7, 0, 1, 0, 5, 4]\n"
     ]
    }
   ],
   "source": [
    "print goals"
   ]
  },
  {
   "cell_type": "code",
   "execution_count": 81,
   "metadata": {
    "collapsed": false
   },
   "outputs": [
    {
     "name": "stdout",
     "output_type": "stream",
     "text": [
      "[16, 36, 20, 4, 12, 0, 0, 1, 0, 0, 1, 0, 0, 4, 13, 0, 4, 5, 1, 15, 12, 4, 1, 0, 0, 0, 4, 35, 4, 14, 27, 5, 4, 0, 0, 4, 0, 1, 2, 0, 0, 15, 3, 5, 7, 5, 0, 14, 0, 21, 0, 0, 29, 13, 13, 17, 6, 3, 0, 4, 15, 6, 7, 6, 0, 0, 13, 3, 3, 14, 7, 0, 2, 0, 4, 8, 0, 0, 1, 3, 9, 0, 4, 5, 4, 1, 15, 2, 1, 0, 0, 0, 2, 1, 6, 10, 8, 15, 7, 10, 0, 1, 0, 3, 0, 2, 2]\n"
     ]
    }
   ],
   "source": [
    "print assists"
   ]
  },
  {
   "cell_type": "code",
   "execution_count": null,
   "metadata": {
    "collapsed": true
   },
   "outputs": [],
   "source": []
  },
  {
   "cell_type": "code",
   "execution_count": null,
   "metadata": {
    "collapsed": true
   },
   "outputs": [],
   "source": []
  },
  {
   "cell_type": "code",
   "execution_count": null,
   "metadata": {
    "collapsed": true
   },
   "outputs": [],
   "source": []
  },
  {
   "cell_type": "code",
   "execution_count": null,
   "metadata": {
    "collapsed": true
   },
   "outputs": [],
   "source": []
  },
  {
   "cell_type": "code",
   "execution_count": null,
   "metadata": {
    "collapsed": true
   },
   "outputs": [],
   "source": []
  },
  {
   "cell_type": "code",
   "execution_count": null,
   "metadata": {
    "collapsed": true
   },
   "outputs": [],
   "source": []
  },
  {
   "cell_type": "code",
   "execution_count": null,
   "metadata": {
    "collapsed": true
   },
   "outputs": [],
   "source": []
  },
  {
   "cell_type": "code",
   "execution_count": 82,
   "metadata": {
    "collapsed": true
   },
   "outputs": [],
   "source": [
    "X = [1]*len(goals)"
   ]
  },
  {
   "cell_type": "code",
   "execution_count": 84,
   "metadata": {
    "collapsed": false
   },
   "outputs": [
    {
     "data": {
      "text/plain": [
       "list"
      ]
     },
     "execution_count": 84,
     "metadata": {},
     "output_type": "execute_result"
    }
   ],
   "source": [
    "X = np.array(X)"
   ]
  },
  {
   "cell_type": "code",
   "execution_count": 97,
   "metadata": {
    "collapsed": false
   },
   "outputs": [
    {
     "name": "stdout",
     "output_type": "stream",
     "text": [
      "[[ 1  1  1  1  1  1  1  1  1  1  1  1  1  1  1  1  1  1  1  1  1  1  1  1\n",
      "   1  1  1  1  1  1  1  1  1  1  1  1  1  1  1  1  1  1  1  1  1  1  1  1\n",
      "   1  1  1  1  1  1  1  1  1  1  1  1  1  1  1  1  1  1  1  1  1  1  1  1\n",
      "   1  1  1  1  1  1  1  1  1  1  1  1  1  1  1  1  1  1  1  1  1  1  1  1\n",
      "   1  1  1  1  1  1  1  1  1  1  1]\n",
      " [15 20 18 13  8  2 10  1  2  0  3  0  0  2 14  1  7  8  0  8  1  7 11  0\n",
      "   0  0  4 15  1 11  9 23 18  0  0 10  0  1  8  0  0 16 19  8 10  9  0  5\n",
      "   0 14  2  1 16 13 27 12  1  5  0  5  3  2 12 11  0  0  7  2  4  8  5  0\n",
      "   8  1  2  3  0 13  3  5  4  1  5  2  5  0  4  8  9  0  0  0  2  7  3 18\n",
      "   6  7  1  7  0  7  0  1  0  5  4]]\n"
     ]
    }
   ],
   "source": [
    "X = np.vstack(([1]*len(goals), goals))\n",
    "print X"
   ]
  },
  {
   "cell_type": "code",
   "execution_count": 91,
   "metadata": {
    "collapsed": false
   },
   "outputs": [
    {
     "name": "stdout",
     "output_type": "stream",
     "text": [
      "[16 36 20  4 12  0  0  1  0  0  1  0  0  4 13  0  4  5  1 15 12  4  1  0  0\n",
      "  0  4 35  4 14 27  5  4  0  0  4  0  1  2  0  0 15  3  5  7  5  0 14  0 21\n",
      "  0  0 29 13 13 17  6  3  0  4 15  6  7  6  0  0 13  3  3 14  7  0  2  0  4\n",
      "  8  0  0  1  3  9  0  4  5  4  1 15  2  1  0  0  0  2  1  6 10  8 15  7 10\n",
      "  0  1  0  3  0  2  2]\n"
     ]
    }
   ],
   "source": [
    "y = np.array(assists)\n",
    "print y"
   ]
  },
  {
   "cell_type": "code",
   "execution_count": 104,
   "metadata": {
    "collapsed": false
   },
   "outputs": [
    {
     "name": "stdout",
     "output_type": "stream",
     "text": [
      "(2, 107)\n",
      "(107, 2)\n",
      "[ 1 15]\n"
     ]
    }
   ],
   "source": [
    "Xt = transpose(X)\n",
    "print X.shape\n",
    "print Xt.shape\n",
    "print Xt[0]"
   ]
  },
  {
   "cell_type": "code",
   "execution_count": 107,
   "metadata": {
    "collapsed": false
   },
   "outputs": [
    {
     "name": "stdout",
     "output_type": "stream",
     "text": [
      "[[ 107  609]\n",
      " [ 609 7309]]\n",
      "(2, 2)\n"
     ]
    }
   ],
   "source": [
    "product = dot(X,Xt)\n",
    "print product\n",
    "print product.shape"
   ]
  },
  {
   "cell_type": "code",
   "execution_count": 108,
   "metadata": {
    "collapsed": false,
    "scrolled": true
   },
   "outputs": [
    {
     "name": "stdout",
     "output_type": "stream",
     "text": [
      "[[ 0.01777558 -0.0014811 ]\n",
      " [-0.0014811   0.00026023]]\n"
     ]
    }
   ],
   "source": [
    "inv = inv(product)\n",
    "print inv"
   ]
  },
  {
   "cell_type": "code",
   "execution_count": 109,
   "metadata": {
    "collapsed": false
   },
   "outputs": [
    {
     "name": "stdout",
     "output_type": "stream",
     "text": [
      "[ 1.407029    0.74457783]\n"
     ]
    }
   ],
   "source": [
    "w = dot(dot(inv, X),y)\n",
    "print w"
   ]
  },
  {
   "cell_type": "code",
   "execution_count": null,
   "metadata": {
    "collapsed": true
   },
   "outputs": [],
   "source": []
  }
 ],
 "metadata": {
  "kernelspec": {
   "display_name": "Python 2",
   "language": "python",
   "name": "python2"
  },
  "language_info": {
   "codemirror_mode": {
    "name": "ipython",
    "version": 2
   },
   "file_extension": ".py",
   "mimetype": "text/x-python",
   "name": "python",
   "nbconvert_exporter": "python",
   "pygments_lexer": "ipython2",
   "version": "2.7.9"
  }
 },
 "nbformat": 4,
 "nbformat_minor": 0
}
